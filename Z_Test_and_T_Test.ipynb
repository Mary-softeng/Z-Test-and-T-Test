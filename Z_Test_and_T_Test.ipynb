{
 "cells": [
  {
   "cell_type": "markdown",
   "metadata": {
    "id": "rGtbsET4WZiK"
   },
   "source": [
    "## Loading libraries"
   ]
  },
  {
   "cell_type": "code",
   "execution_count": null,
   "metadata": {
    "id": "U9iSnIqsWxsA"
   },
   "outputs": [],
   "source": [
    "# importing pandas\n",
    "import pandas as pd\n",
    "\n",
    "# Import numpy\n",
    "import numpy as np\n",
    "\n",
    "# Import math\n",
    "import math\n",
    "\n",
    "# Import matplotlib\n",
    "import matplotlib.pyplot as plt\n",
    "\n",
    "# Import seaborn\n",
    "import seaborn as sns\n",
    "\n",
    "# Importt scipy.stat\n",
    "import scipy.stats as stats\n",
    "\n",
    "# importing norm from scipy stats\n",
    "from scipy.stats import norm"
   ]
  },
  {
   "cell_type": "markdown",
   "metadata": {
    "id": "19TNwG6VWdLY"
   },
   "source": [
    "## loading data"
   ]
  },
  {
   "cell_type": "code",
   "execution_count": null,
   "metadata": {
    "id": "Ci6WW02AXx8g"
   },
   "outputs": [],
   "source": [
    "# loading the data\n",
    "# url = https://drive.google.com/file/d/1ODcSRSs_isRKCAShFwnMrXdcphed9kYn/view\n",
    "# Specifying url\n",
    "url = 'https://drive.google.com/file/d/1ODcSRSs_isRKCAShFwnMrXdcphed9kYn/view'\n",
    "\n",
    "# Spliting url\n",
    "url='https://drive.google.com/uc?id=' + url.split('/')[-2]\n",
    "\n",
    "# Loading data\n",
    "moringa_student_heights = pd.read_csv(url)"
   ]
  },
  {
   "cell_type": "markdown",
   "metadata": {
    "id": "pbsqoeNQWfSM"
   },
   "source": [
    "## Preview data"
   ]
  },
  {
   "cell_type": "code",
   "execution_count": null,
   "metadata": {
    "colab": {
     "base_uri": "https://localhost:8080/"
    },
    "id": "OEXulOSEZFN9",
    "outputId": "d20f6086-be4d-4c99-dce0-eb6f1bc32e6e"
   },
   "outputs": [
    {
     "data": {
      "text/plain": [
       "(10000, 2)"
      ]
     },
     "execution_count": 263,
     "metadata": {},
     "output_type": "execute_result"
    }
   ],
   "source": [
    "# Determining the no. of records in our dataset\n",
    "moringa_student_heights.shape"
   ]
  },
  {
   "cell_type": "code",
   "execution_count": null,
   "metadata": {
    "colab": {
     "base_uri": "https://localhost:8080/",
     "height": 206
    },
    "id": "275UKFjTZ1Bu",
    "outputId": "c782d416-7b56-486f-8f64-7e0a3efcb495"
   },
   "outputs": [
    {
     "data": {
      "text/html": [
       "\n",
       "  <div id=\"df-03af0335-556a-48a2-a017-280928d3b64e\">\n",
       "    <div class=\"colab-df-container\">\n",
       "      <div>\n",
       "<style scoped>\n",
       "    .dataframe tbody tr th:only-of-type {\n",
       "        vertical-align: middle;\n",
       "    }\n",
       "\n",
       "    .dataframe tbody tr th {\n",
       "        vertical-align: top;\n",
       "    }\n",
       "\n",
       "    .dataframe thead th {\n",
       "        text-align: right;\n",
       "    }\n",
       "</style>\n",
       "<table border=\"1\" class=\"dataframe\">\n",
       "  <thead>\n",
       "    <tr style=\"text-align: right;\">\n",
       "      <th></th>\n",
       "      <th>gender</th>\n",
       "      <th>ht</th>\n",
       "    </tr>\n",
       "  </thead>\n",
       "  <tbody>\n",
       "    <tr>\n",
       "      <th>0</th>\n",
       "      <td>F</td>\n",
       "      <td>55.398043</td>\n",
       "    </tr>\n",
       "    <tr>\n",
       "      <th>1</th>\n",
       "      <td>F</td>\n",
       "      <td>64.975468</td>\n",
       "    </tr>\n",
       "    <tr>\n",
       "      <th>2</th>\n",
       "      <td>F</td>\n",
       "      <td>70.591667</td>\n",
       "    </tr>\n",
       "    <tr>\n",
       "      <th>3</th>\n",
       "      <td>F</td>\n",
       "      <td>63.574479</td>\n",
       "    </tr>\n",
       "    <tr>\n",
       "      <th>4</th>\n",
       "      <td>F</td>\n",
       "      <td>62.535298</td>\n",
       "    </tr>\n",
       "  </tbody>\n",
       "</table>\n",
       "</div>\n",
       "      <button class=\"colab-df-convert\" onclick=\"convertToInteractive('df-03af0335-556a-48a2-a017-280928d3b64e')\"\n",
       "              title=\"Convert this dataframe to an interactive table.\"\n",
       "              style=\"display:none;\">\n",
       "        \n",
       "  <svg xmlns=\"http://www.w3.org/2000/svg\" height=\"24px\"viewBox=\"0 0 24 24\"\n",
       "       width=\"24px\">\n",
       "    <path d=\"M0 0h24v24H0V0z\" fill=\"none\"/>\n",
       "    <path d=\"M18.56 5.44l.94 2.06.94-2.06 2.06-.94-2.06-.94-.94-2.06-.94 2.06-2.06.94zm-11 1L8.5 8.5l.94-2.06 2.06-.94-2.06-.94L8.5 2.5l-.94 2.06-2.06.94zm10 10l.94 2.06.94-2.06 2.06-.94-2.06-.94-.94-2.06-.94 2.06-2.06.94z\"/><path d=\"M17.41 7.96l-1.37-1.37c-.4-.4-.92-.59-1.43-.59-.52 0-1.04.2-1.43.59L10.3 9.45l-7.72 7.72c-.78.78-.78 2.05 0 2.83L4 21.41c.39.39.9.59 1.41.59.51 0 1.02-.2 1.41-.59l7.78-7.78 2.81-2.81c.8-.78.8-2.07 0-2.86zM5.41 20L4 18.59l7.72-7.72 1.47 1.35L5.41 20z\"/>\n",
       "  </svg>\n",
       "      </button>\n",
       "      \n",
       "  <style>\n",
       "    .colab-df-container {\n",
       "      display:flex;\n",
       "      flex-wrap:wrap;\n",
       "      gap: 12px;\n",
       "    }\n",
       "\n",
       "    .colab-df-convert {\n",
       "      background-color: #E8F0FE;\n",
       "      border: none;\n",
       "      border-radius: 50%;\n",
       "      cursor: pointer;\n",
       "      display: none;\n",
       "      fill: #1967D2;\n",
       "      height: 32px;\n",
       "      padding: 0 0 0 0;\n",
       "      width: 32px;\n",
       "    }\n",
       "\n",
       "    .colab-df-convert:hover {\n",
       "      background-color: #E2EBFA;\n",
       "      box-shadow: 0px 1px 2px rgba(60, 64, 67, 0.3), 0px 1px 3px 1px rgba(60, 64, 67, 0.15);\n",
       "      fill: #174EA6;\n",
       "    }\n",
       "\n",
       "    [theme=dark] .colab-df-convert {\n",
       "      background-color: #3B4455;\n",
       "      fill: #D2E3FC;\n",
       "    }\n",
       "\n",
       "    [theme=dark] .colab-df-convert:hover {\n",
       "      background-color: #434B5C;\n",
       "      box-shadow: 0px 1px 3px 1px rgba(0, 0, 0, 0.15);\n",
       "      filter: drop-shadow(0px 1px 2px rgba(0, 0, 0, 0.3));\n",
       "      fill: #FFFFFF;\n",
       "    }\n",
       "  </style>\n",
       "\n",
       "      <script>\n",
       "        const buttonEl =\n",
       "          document.querySelector('#df-03af0335-556a-48a2-a017-280928d3b64e button.colab-df-convert');\n",
       "        buttonEl.style.display =\n",
       "          google.colab.kernel.accessAllowed ? 'block' : 'none';\n",
       "\n",
       "        async function convertToInteractive(key) {\n",
       "          const element = document.querySelector('#df-03af0335-556a-48a2-a017-280928d3b64e');\n",
       "          const dataTable =\n",
       "            await google.colab.kernel.invokeFunction('convertToInteractive',\n",
       "                                                     [key], {});\n",
       "          if (!dataTable) return;\n",
       "\n",
       "          const docLinkHtml = 'Like what you see? Visit the ' +\n",
       "            '<a target=\"_blank\" href=https://colab.research.google.com/notebooks/data_table.ipynb>data table notebook</a>'\n",
       "            + ' to learn more about interactive tables.';\n",
       "          element.innerHTML = '';\n",
       "          dataTable['output_type'] = 'display_data';\n",
       "          await google.colab.output.renderOutput(dataTable, element);\n",
       "          const docLink = document.createElement('div');\n",
       "          docLink.innerHTML = docLinkHtml;\n",
       "          element.appendChild(docLink);\n",
       "        }\n",
       "      </script>\n",
       "    </div>\n",
       "  </div>\n",
       "  "
      ],
      "text/plain": [
       "  gender         ht\n",
       "0      F  55.398043\n",
       "1      F  64.975468\n",
       "2      F  70.591667\n",
       "3      F  63.574479\n",
       "4      F  62.535298"
      ]
     },
     "execution_count": 264,
     "metadata": {},
     "output_type": "execute_result"
    }
   ],
   "source": [
    "# Previewing the top of our dataset\n",
    "moringa_student_heights.head()"
   ]
  },
  {
   "cell_type": "code",
   "execution_count": null,
   "metadata": {
    "colab": {
     "base_uri": "https://localhost:8080/",
     "height": 206
    },
    "id": "JMVtAjzRZ0uF",
    "outputId": "3d180fd0-3d5c-4212-acaf-fdfc54c9210e"
   },
   "outputs": [
    {
     "data": {
      "text/html": [
       "\n",
       "  <div id=\"df-1a7dbd89-939d-4acb-a776-36fe430202be\">\n",
       "    <div class=\"colab-df-container\">\n",
       "      <div>\n",
       "<style scoped>\n",
       "    .dataframe tbody tr th:only-of-type {\n",
       "        vertical-align: middle;\n",
       "    }\n",
       "\n",
       "    .dataframe tbody tr th {\n",
       "        vertical-align: top;\n",
       "    }\n",
       "\n",
       "    .dataframe thead th {\n",
       "        text-align: right;\n",
       "    }\n",
       "</style>\n",
       "<table border=\"1\" class=\"dataframe\">\n",
       "  <thead>\n",
       "    <tr style=\"text-align: right;\">\n",
       "      <th></th>\n",
       "      <th>gender</th>\n",
       "      <th>ht</th>\n",
       "    </tr>\n",
       "  </thead>\n",
       "  <tbody>\n",
       "    <tr>\n",
       "      <th>9995</th>\n",
       "      <td>M</td>\n",
       "      <td>91.485240</td>\n",
       "    </tr>\n",
       "    <tr>\n",
       "      <th>9996</th>\n",
       "      <td>M</td>\n",
       "      <td>94.842755</td>\n",
       "    </tr>\n",
       "    <tr>\n",
       "      <th>9997</th>\n",
       "      <td>M</td>\n",
       "      <td>98.096696</td>\n",
       "    </tr>\n",
       "    <tr>\n",
       "      <th>9998</th>\n",
       "      <td>M</td>\n",
       "      <td>91.478957</td>\n",
       "    </tr>\n",
       "    <tr>\n",
       "      <th>9999</th>\n",
       "      <td>M</td>\n",
       "      <td>88.849197</td>\n",
       "    </tr>\n",
       "  </tbody>\n",
       "</table>\n",
       "</div>\n",
       "      <button class=\"colab-df-convert\" onclick=\"convertToInteractive('df-1a7dbd89-939d-4acb-a776-36fe430202be')\"\n",
       "              title=\"Convert this dataframe to an interactive table.\"\n",
       "              style=\"display:none;\">\n",
       "        \n",
       "  <svg xmlns=\"http://www.w3.org/2000/svg\" height=\"24px\"viewBox=\"0 0 24 24\"\n",
       "       width=\"24px\">\n",
       "    <path d=\"M0 0h24v24H0V0z\" fill=\"none\"/>\n",
       "    <path d=\"M18.56 5.44l.94 2.06.94-2.06 2.06-.94-2.06-.94-.94-2.06-.94 2.06-2.06.94zm-11 1L8.5 8.5l.94-2.06 2.06-.94-2.06-.94L8.5 2.5l-.94 2.06-2.06.94zm10 10l.94 2.06.94-2.06 2.06-.94-2.06-.94-.94-2.06-.94 2.06-2.06.94z\"/><path d=\"M17.41 7.96l-1.37-1.37c-.4-.4-.92-.59-1.43-.59-.52 0-1.04.2-1.43.59L10.3 9.45l-7.72 7.72c-.78.78-.78 2.05 0 2.83L4 21.41c.39.39.9.59 1.41.59.51 0 1.02-.2 1.41-.59l7.78-7.78 2.81-2.81c.8-.78.8-2.07 0-2.86zM5.41 20L4 18.59l7.72-7.72 1.47 1.35L5.41 20z\"/>\n",
       "  </svg>\n",
       "      </button>\n",
       "      \n",
       "  <style>\n",
       "    .colab-df-container {\n",
       "      display:flex;\n",
       "      flex-wrap:wrap;\n",
       "      gap: 12px;\n",
       "    }\n",
       "\n",
       "    .colab-df-convert {\n",
       "      background-color: #E8F0FE;\n",
       "      border: none;\n",
       "      border-radius: 50%;\n",
       "      cursor: pointer;\n",
       "      display: none;\n",
       "      fill: #1967D2;\n",
       "      height: 32px;\n",
       "      padding: 0 0 0 0;\n",
       "      width: 32px;\n",
       "    }\n",
       "\n",
       "    .colab-df-convert:hover {\n",
       "      background-color: #E2EBFA;\n",
       "      box-shadow: 0px 1px 2px rgba(60, 64, 67, 0.3), 0px 1px 3px 1px rgba(60, 64, 67, 0.15);\n",
       "      fill: #174EA6;\n",
       "    }\n",
       "\n",
       "    [theme=dark] .colab-df-convert {\n",
       "      background-color: #3B4455;\n",
       "      fill: #D2E3FC;\n",
       "    }\n",
       "\n",
       "    [theme=dark] .colab-df-convert:hover {\n",
       "      background-color: #434B5C;\n",
       "      box-shadow: 0px 1px 3px 1px rgba(0, 0, 0, 0.15);\n",
       "      filter: drop-shadow(0px 1px 2px rgba(0, 0, 0, 0.3));\n",
       "      fill: #FFFFFF;\n",
       "    }\n",
       "  </style>\n",
       "\n",
       "      <script>\n",
       "        const buttonEl =\n",
       "          document.querySelector('#df-1a7dbd89-939d-4acb-a776-36fe430202be button.colab-df-convert');\n",
       "        buttonEl.style.display =\n",
       "          google.colab.kernel.accessAllowed ? 'block' : 'none';\n",
       "\n",
       "        async function convertToInteractive(key) {\n",
       "          const element = document.querySelector('#df-1a7dbd89-939d-4acb-a776-36fe430202be');\n",
       "          const dataTable =\n",
       "            await google.colab.kernel.invokeFunction('convertToInteractive',\n",
       "                                                     [key], {});\n",
       "          if (!dataTable) return;\n",
       "\n",
       "          const docLinkHtml = 'Like what you see? Visit the ' +\n",
       "            '<a target=\"_blank\" href=https://colab.research.google.com/notebooks/data_table.ipynb>data table notebook</a>'\n",
       "            + ' to learn more about interactive tables.';\n",
       "          element.innerHTML = '';\n",
       "          dataTable['output_type'] = 'display_data';\n",
       "          await google.colab.output.renderOutput(dataTable, element);\n",
       "          const docLink = document.createElement('div');\n",
       "          docLink.innerHTML = docLinkHtml;\n",
       "          element.appendChild(docLink);\n",
       "        }\n",
       "      </script>\n",
       "    </div>\n",
       "  </div>\n",
       "  "
      ],
      "text/plain": [
       "     gender         ht\n",
       "9995      M  91.485240\n",
       "9996      M  94.842755\n",
       "9997      M  98.096696\n",
       "9998      M  91.478957\n",
       "9999      M  88.849197"
      ]
     },
     "execution_count": 265,
     "metadata": {},
     "output_type": "execute_result"
    }
   ],
   "source": [
    "# Previewing the bottom of our dataset\n",
    "moringa_student_heights.tail()"
   ]
  },
  {
   "cell_type": "code",
   "execution_count": null,
   "metadata": {
    "colab": {
     "base_uri": "https://localhost:8080/"
    },
    "id": "JiOR6lLjZ0cC",
    "outputId": "95142b8f-c82c-47fd-8e75-22b42760bcc3"
   },
   "outputs": [
    {
     "data": {
      "text/plain": [
       "gender     object\n",
       "ht        float64\n",
       "dtype: object"
      ]
     },
     "execution_count": 266,
     "metadata": {},
     "output_type": "execute_result"
    }
   ],
   "source": [
    "# Checking whether each column has an appropriate datatype\n",
    "moringa_student_heights.dtypes"
   ]
  },
  {
   "cell_type": "markdown",
   "metadata": {
    "id": "jtqDv3GLal6o"
   },
   "source": [
    "- Data types for all columns are appropriate"
   ]
  },
  {
   "cell_type": "markdown",
   "metadata": {
    "id": "p4cYkDgDaXy1"
   },
   "source": [
    "## External data source verification"
   ]
  },
  {
   "cell_type": "markdown",
   "metadata": {
    "id": "T9VKecBIWi11"
   },
   "source": [
    "## Cleaning data"
   ]
  },
  {
   "cell_type": "code",
   "execution_count": null,
   "metadata": {
    "colab": {
     "base_uri": "https://localhost:8080/",
     "height": 370
    },
    "id": "q_NFwma3eAH5",
    "outputId": "88c137f0-561a-4a57-cdbd-2180bdae6832"
   },
   "outputs": [
    {
     "data": {
      "image/png": "[encoded data removed]",
      "text/plain": [
       "<Figure size 576x396 with 1 Axes>"
      ]
     },
     "metadata": {},
     "output_type": "display_data"
    }
   ],
   "source": [
    "# Checking for outliers\n",
    "import seaborn as sns\n",
    "sns.set_theme(style=\"whitegrid\")\n",
    "ax = sns.boxplot(x=moringa_student_heights['ht'])"
   ]
  },
  {
   "cell_type": "markdown",
   "metadata": {
    "id": "1Qp3L8oLeeUb"
   },
   "source": [
    "- No outliers in the dataset"
   ]
  },
  {
   "cell_type": "code",
   "execution_count": null,
   "metadata": {
    "colab": {
     "base_uri": "https://localhost:8080/"
    },
    "id": "BpT5GsC5aK75",
    "outputId": "ee046735-e3d5-4415-b492-90a763d2a916"
   },
   "outputs": [
    {
     "name": "stdout",
     "output_type": "stream",
     "text": [
      "29.529585679652897\n"
     ]
    }
   ],
   "source": [
    "# Checking for Anomalies\n",
    "\n",
    "q1_3, q3_3 = np.percentile(moringa_student_heights['ht'], [25, 75]) \n",
    "\n",
    "iqr = q3_3 - q1_3\n",
    "\n",
    "l_bound = q1_3 - (1.5*iqr)\n",
    "u_bound = q3_3 + (1.5 * iqr)\n",
    "\n",
    "\n",
    "print(iqr)"
   ]
  },
  {
   "cell_type": "markdown",
   "metadata": {
    "id": "QiWk8hf-fqIF"
   },
   "source": [
    "- No anomalies"
   ]
  },
  {
   "cell_type": "code",
   "execution_count": null,
   "metadata": {
    "colab": {
     "base_uri": "https://localhost:8080/"
    },
    "id": "vn_sKpEtaKus",
    "outputId": "6a20157c-68f9-4375-8f4d-5cdbe4942809"
   },
   "outputs": [
    {
     "data": {
      "text/plain": [
       "gender    0\n",
       "ht        0\n",
       "dtype: int64"
      ]
     },
     "execution_count": 269,
     "metadata": {},
     "output_type": "execute_result"
    }
   ],
   "source": [
    "# Checking for null values\n",
    "moringa_student_heights.isnull().sum()"
   ]
  },
  {
   "cell_type": "markdown",
   "metadata": {
    "id": "mHtPHX2qgPNQ"
   },
   "source": [
    "- No null values"
   ]
  },
  {
   "cell_type": "code",
   "execution_count": null,
   "metadata": {
    "colab": {
     "base_uri": "https://localhost:8080/"
    },
    "id": "BFBd2wMwaKOJ",
    "outputId": "9c8c67f5-ba93-446f-bc51-a4978ebed7fd"
   },
   "outputs": [
    {
     "data": {
      "text/plain": [
       "0"
      ]
     },
     "execution_count": 270,
     "metadata": {},
     "output_type": "execute_result"
    }
   ],
   "source": [
    "# Checking for duplicates\n",
    "moringa_student_heights.duplicated().sum()"
   ]
  },
  {
   "cell_type": "markdown",
   "metadata": {
    "id": "joFB7ouNgoxD"
   },
   "source": [
    "- No duplicates in the dataset\n",
    "\n",
    "- **Data set is clean**\n"
   ]
  },
  {
   "cell_type": "markdown",
   "metadata": {
    "id": "9X7RpaLXWlR1"
   },
   "source": [
    "## Sampling data"
   ]
  },
  {
   "cell_type": "code",
   "execution_count": null,
   "metadata": {
    "colab": {
     "base_uri": "https://localhost:8080/"
    },
    "id": "8lKS2gQMpwMS",
    "outputId": "c2a502f0-b772-4c80-e04a-5e071ffa3aa3"
   },
   "outputs": [
    {
     "data": {
      "text/plain": [
       "count     10000\n",
       "unique        2\n",
       "top           F\n",
       "freq       6000\n",
       "Name: gender, dtype: object"
      ]
     },
     "execution_count": 271,
     "metadata": {},
     "output_type": "execute_result"
    }
   ],
   "source": [
    "# Determine propotions of males to females in the moringa students height dataframe\n",
    "moringa_student_heights['gender'].describe()"
   ]
  },
  {
   "cell_type": "code",
   "execution_count": null,
   "metadata": {
    "colab": {
     "base_uri": "https://localhost:8080/"
    },
    "id": "ln2_4OZggyPX",
    "outputId": "e16cd137-8928-49a1-85ff-d93352604127"
   },
   "outputs": [
    {
     "data": {
      "text/plain": [
       "count     50\n",
       "unique     2\n",
       "top        F\n",
       "freq      30\n",
       "Name: gender, dtype: object"
      ]
     },
     "execution_count": 272,
     "metadata": {},
     "output_type": "execute_result"
    }
   ],
   "source": [
    "# Randomly samplying data\n",
    "moringa_sample = moringa_student_heights.groupby('gender', group_keys=False).apply(lambda x: x.sample(frac=0.005))\n",
    "moringa_sample['gender'].describe()"
   ]
  },
  {
   "cell_type": "markdown",
   "metadata": {
    "id": "EFTi7P1mqFU8"
   },
   "source": [
    "- The data has been sampled in the right propotion"
   ]
  },
  {
   "cell_type": "code",
   "execution_count": null,
   "metadata": {
    "id": "54KgMcWXqOdC"
   },
   "outputs": [],
   "source": [
    "# Data frame with male data only\n",
    "sample_moringa_males = moringa_sample.loc[moringa_sample['gender'] == 'M']\n",
    "\n",
    "# Data frame with female data only\n",
    "sample_moringa_females = moringa_sample.loc[moringa_sample['gender'] == 'F']"
   ]
  },
  {
   "cell_type": "markdown",
   "metadata": {
    "id": "jCrE2gTiWtOO"
   },
   "source": [
    "## Clarify steps and assumptions"
   ]
  },
  {
   "cell_type": "markdown",
   "metadata": {
    "id": "P89Uy1EIrm_e"
   },
   "source": [
    "**Assumptions**:\n",
    "- Data is normally distributed\n",
    "- \n",
    "\n",
    "**Steps**:\n",
    "- Specifying the Null Hypothesis\n",
    "- Specifying the Alternative Hypothesis\n",
    "- Setting the Significance Level (a)\n",
    "- Calculating the Test Statistic and Corresponding P-Value\n",
    "- Drawing a Conclusion"
   ]
  },
  {
   "cell_type": "markdown",
   "metadata": {
    "id": "8HH49pGLWo75"
   },
   "source": [
    "## Hypothesis testing"
   ]
  },
  {
   "cell_type": "markdown",
   "metadata": {
    "id": "nSiMF3aXyGJg"
   },
   "source": [
    "**1. Claim that average height of Kenyan women is probably around 4 feet 7 inches**"
   ]
  },
  {
   "cell_type": "code",
   "execution_count": null,
   "metadata": {
    "colab": {
     "base_uri": "https://localhost:8080/"
    },
    "id": "TUprNU230eln",
    "outputId": "66bed5a5-6baa-45cb-e777-3d4d0b5e414c"
   },
   "outputs": [
    {
     "data": {
      "text/plain": [
       "(30, 2)"
      ]
     },
     "execution_count": 274,
     "metadata": {},
     "output_type": "execute_result"
    }
   ],
   "source": [
    "# Shape of dataframe with only female data\n",
    "sample_moringa_females.shape"
   ]
  },
  {
   "cell_type": "code",
   "execution_count": null,
   "metadata": {
    "colab": {
     "base_uri": "https://localhost:8080/"
    },
    "id": "cUmWZ44Tx2CO",
    "outputId": "31627067-d5c3-49cb-e7bb-c52cca3addf6"
   },
   "outputs": [
    {
     "data": {
      "text/plain": [
       "Ttest_1sampResult(statistic=4.3592534050285945, pvalue=0.00014970730582726538)"
      ]
     },
     "execution_count": 275,
     "metadata": {},
     "output_type": "execute_result"
    }
   ],
   "source": [
    "# Null hypothesis Ho, µ = 55 inches\n",
    "# Alternate hypothesis H1, µ ≠ 55 inches\n",
    "# Significance level α = 0.05\n",
    "# n = number_female\n",
    "\n",
    "# Specify variables\n",
    "α = 0.05\n",
    "n = 30\n",
    "population_mean = 55\n",
    "\n",
    "# determining t_statistic and p_value\n",
    "stats.ttest_1samp(sample_moringa_females['ht'], population_mean)"
   ]
  },
  {
   "cell_type": "markdown",
   "metadata": {
    "id": "Y26vJFccAaGn"
   },
   "source": [
    "**Z test**"
   ]
  },
  {
   "cell_type": "code",
   "execution_count": null,
   "metadata": {
    "colab": {
     "base_uri": "https://localhost:8080/"
    },
    "id": "4nN-y26T42GZ",
    "outputId": "31bf8d4b-30ae-455a-c072-4d44f870a964"
   },
   "outputs": [
    {
     "data": {
      "text/plain": [
       "0.42609763584451266"
      ]
     },
     "execution_count": 276,
     "metadata": {},
     "output_type": "execute_result"
    }
   ],
   "source": [
    "# Mean of female heights\n",
    "mean = sample_moringa_females['ht'].mean()\n",
    "mean\n",
    "import statistics\n",
    "sd = statistics.stdev(sample_moringa_females['ht'])\n",
    "sd\n",
    "# Calculating t statistic\n",
    "z_score = (mean - population_mean) / sd\n",
    "z_score\n",
    "stats.norm.sf(abs(z_score)) * 2"
   ]
  },
  {
   "cell_type": "markdown",
   "metadata": {
    "id": "bWrCnz6KB2vj"
   },
   "source": [
    "**2. Claim 2 average height of kenyan men is 169.6 cm, or 5 feet, 7 inches**\n"
   ]
  },
  {
   "cell_type": "code",
   "execution_count": null,
   "metadata": {
    "colab": {
     "base_uri": "https://localhost:8080/"
    },
    "id": "0ZsHphAeCDkR",
    "outputId": "93476fd6-b430-4dff-8c2f-5dae8d81015a"
   },
   "outputs": [
    {
     "data": {
      "text/plain": [
       "Ttest_1sampResult(statistic=21.549694277970044, pvalue=8.166832208625197e-15)"
      ]
     },
     "execution_count": 277,
     "metadata": {},
     "output_type": "execute_result"
    }
   ],
   "source": [
    "# Null hypothesis Ho, µ = 66.772 inches\n",
    "# Alternate hypothesis H1, µ ≠ 66.772 inches\n",
    "# Significance level α = 0.05\n",
    "# n = number of males\n",
    "\n",
    "# Specify variables\n",
    "α = 0.05\n",
    "n = 20\n",
    "population_mean = 66.772\n",
    "\n",
    "# determining t_statistic and p_value\n",
    "stats.ttest_1samp(sample_moringa_males['ht'], population_mean)"
   ]
  },
  {
   "cell_type": "markdown",
   "metadata": {
    "id": "gIKXhxQpCznZ"
   },
   "source": [
    "**Claim 3 Are males taller than females in humans**"
   ]
  },
  {
   "cell_type": "code",
   "execution_count": null,
   "metadata": {
    "colab": {
     "base_uri": "https://localhost:8080/"
    },
    "id": "zDFBR3iUC9Oe",
    "outputId": "b797a694-d79e-448a-d48d-2ff2ed803548"
   },
   "outputs": [
    {
     "data": {
      "text/plain": [
       "Ttest_indResult(statistic=-20.412132410679607, pvalue=2.6326373731256783e-25)"
      ]
     },
     "execution_count": 278,
     "metadata": {},
     "output_type": "execute_result"
    }
   ],
   "source": [
    "# Null hypothesis Ho, males are not taller than females\n",
    "# Alternate hypothesis H1 males are taller than females (claim)\n",
    "# Significance level α = 0.05\n",
    "# n = number of males\n",
    "\n",
    "# Specify variables\n",
    "α = 0.05\n",
    "n = 50\n",
    "\n",
    "# p value assuming equal varaince\n",
    "stats.ttest_ind(sample_moringa_females['ht'], sample_moringa_males['ht'], equal_var=True)"
   ]
  },
  {
   "cell_type": "markdown",
   "metadata": {
    "id": "mYPkpfCMGEnI"
   },
   "source": [
    "**4. Determine values in 95% confidence interval**"
   ]
  },
  {
   "cell_type": "code",
   "execution_count": null,
   "metadata": {
    "colab": {
     "base_uri": "https://localhost:8080/"
    },
    "id": "QVjHgHncGOKl",
    "outputId": "26c084b2-8b4b-4f31-b1ab-f2f1ab2fa881"
   },
   "outputs": [
    {
     "name": "stdout",
     "output_type": "stream",
     "text": [
      "lower limit 26.152535167167844 and upper limit 31.867634787163336\n"
     ]
    }
   ],
   "source": [
    "# significance level = 5%\n",
    "alpha = 0.05 \n",
    "# sample sizes                                                  \n",
    "n1, n2 = len(sample_moringa_females['ht']), len(sample_moringa_males['ht'])  \n",
    "# pooled standard deviation                                \n",
    "s1, s2 = np.var(sample_moringa_females['ht'], ddof=1), np.var(sample_moringa_males['ht'], ddof=1)  \n",
    "# sample variances\n",
    "s = np.sqrt(((n1 - 1) * s1 + (n2 - 1) * s2) / (n1 + n2 - 2)) \n",
    "# degrees of freedom\n",
    "df = n1 + n2 - 2 \n",
    "# t-critical value for 95% CI                                            \n",
    "t = stats.t.ppf(1 - alpha/2, df)                             \n",
    "\n",
    "lower = (np.mean(sample_moringa_males['ht']) - np.mean(sample_moringa_females['ht'])) - t * np.sqrt(1 / len(sample_moringa_males['ht']) + 1 / len(sample_moringa_females['ht'])) * s\n",
    "upper = (np.mean(sample_moringa_males['ht']) - np.mean(sample_moringa_females['ht'])) + t * np.sqrt(1 / len(sample_moringa_males['ht']) + 1 / len(sample_moringa_females['ht'])) * s\n",
    "\n",
    "print(f'lower limit {lower} and upper limit {upper}')"
   ]
  },
  {
   "cell_type": "code",
   "execution_count": null,
   "metadata": {
    "colab": {
     "base_uri": "https://localhost:8080/"
    },
    "id": "C0y7DE5CMGCV",
    "outputId": "58af7d55-b790-443a-b294-6d37d593a1e5"
   },
   "outputs": [
    {
     "data": {
      "text/plain": [
       "array([63.30973115, 57.75963095, 64.29982781, 57.59153172, 53.96180109,\n",
       "       57.84236065, 52.67275823, 56.55685868, 67.76943341, 61.35726977,\n",
       "       62.73171706, 65.05099011, 61.65151575, 56.61821645, 59.39158856,\n",
       "       53.4198886 , 56.4764665 , 62.35549557, 52.5392586 , 62.60280052,\n",
       "       52.7406451 , 59.26149051, 61.82728408, 49.60248408, 74.42875459,\n",
       "       57.6733688 , 62.48712898, 54.34730538, 56.27305835, 59.9453432 ])"
      ]
     },
     "execution_count": 280,
     "metadata": {},
     "output_type": "execute_result"
    }
   ],
   "source": [
    "xa = sample_moringa_females['ht'].to_numpy()\n",
    "xa"
   ]
  },
  {
   "cell_type": "code",
   "execution_count": null,
   "metadata": {
    "colab": {
     "base_uri": "https://localhost:8080/",
     "height": 445
    },
    "id": "gM5N8hgvNtmc",
    "outputId": "1257e2dd-a5ac-4fd6-ae09-9d8d7d237f43"
   },
   "outputs": [
    {
     "name": "stderr",
     "output_type": "stream",
     "text": [
      "/usr/local/lib/python3.7/dist-packages/ipykernel_launcher.py:6: RuntimeWarning: divide by zero encountered in double_scalars\n",
      "  \n",
      "/usr/local/lib/python3.7/dist-packages/ipykernel_launcher.py:6: RuntimeWarning: invalid value encountered in true_divide\n",
      "  \n"
     ]
    },
    {
     "data": {
      "image/png": "[encoded data removed]",
      "text/plain": [
       "<Figure size 432x432 with 1 Axes>"
      ]
     },
     "metadata": {},
     "output_type": "display_data"
    }
   ],
   "source": [
    "# A custom function to calculate\n",
    "# probability distribution function\n",
    "def pdf(xa):\n",
    "    mean = np.mean(xa)\n",
    "    std = np.std(xa)\n",
    "    y_out = 1/(std * np.sqrt(2 * np.pi)) * np.exp( - (xa - mean)**2 / (2 * std**2))\n",
    "    return y_out\n",
    "    \n",
    "# To generate an array of x-values\n",
    "x = np.arange(26.78309313756948, 32.631813346708256, 29.707453242138868)\n",
    "  \n",
    "# To generate an array of\n",
    "# y-values using corresponding x-values\n",
    "y = pdf(x)\n",
    "  \n",
    "# Plotting the bell-shaped curve\n",
    "plt.style.use('seaborn')\n",
    "plt.figure(figsize = (6, 6))\n",
    "plt.plot(x, y, color = 'black',\n",
    "         linestyle = 'dashed')\n",
    "  \n",
    "plt.scatter( x, y, marker = 'o', s = 25, color = 'red')\n",
    "plt.show()"
   ]
  },
  {
   "cell_type": "markdown",
   "metadata": {
    "id": "K7T7qPYUx_iJ"
   },
   "source": [
    "univariate and Bivariate Analysis(plotting graphs)"
   ]
  },
  {
   "cell_type": "code",
   "execution_count": null,
   "metadata": {
    "id": "lKLuN9RWySrH"
   },
   "outputs": [],
   "source": []
  }
 ],
 "metadata": {
  "colab": {
   "collapsed_sections": [
    "rGtbsET4WZiK"
   ],
   "name": "Z-Test and T-Test",
   "provenance": []
  },
  "kernelspec": {
   "display_name": "Python 3 (ipykernel)",
   "language": "python",
   "name": "python3"
  },
  "language_info": {
   "codemirror_mode": {
    "name": "ipython",
    "version": 3
   },
   "file_extension": ".py",
   "mimetype": "text/x-python",
   "name": "python",
   "nbconvert_exporter": "python",
   "pygments_lexer": "ipython3",
   "version": "3.8.8"
  }
 },
 "nbformat": 4,
 "nbformat_minor": 1
}
